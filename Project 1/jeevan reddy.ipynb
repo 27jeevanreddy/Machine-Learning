{
 "cells": [
  {
   "cell_type": "code",
   "execution_count": 29,
   "metadata": {
    "id": "YtSKpnQMTOGx"
   },
   "outputs": [],
   "source": [
    "# importing all required libraries\n",
    "import numpy as np\n",
    "import pandas as pd\n",
    "from sklearn import metrics\n",
    "import math\n",
    "from sklearn.neighbors import KNeighborsClassifier  \n",
    "from sklearn.naive_bayes import GaussianNB"
   ]
  },
  {
   "cell_type": "code",
   "execution_count": 30,
   "metadata": {
    "id": "Z8RqF-7kSeLZ"
   },
   "outputs": [],
   "source": [
    "# reading data segment part one\n",
    "trainCollection = \"\"\"(( 1.6530190426733, 72.871146648479, 24), W )\n",
    "(( 1.6471384909498, 72.612785314988, 34), W )\n",
    "(( 1.6472055785348, 73.53968351051, 33), M )\n",
    "(( 1.7323008914951, 76.067870338779, 30), M )\n",
    "(( 1.6750702657911, 81.05582111533, 30), M )\n",
    "(( 1.5780970716644, 64.926084680188, 30), W )\n",
    "(( 1.6587629355524, 69.38092449041, 30), M )\n",
    "(( 1.6763295980234, 77.062295990149, 31), M )\n",
    "(( 1.7187224085504, 62.112923317057, 37), W )\n",
    "(( 1.5202218226439, 66.151444019603, 27), W )\n",
    "(( 1.5552689261884, 66.076386143769, 31), W )\n",
    "(( 1.6969333189258, 77.45386244568, 34), M )\n",
    "(( 1.6887980792886, 76.489640732464, 37), M )\n",
    "(( 1.5213552893624, 63.952944947832, 35), W )\"\"\"\n",
    "\n",
    "# reading data segment part two\n",
    "testCollection = \"\"\"( 1.62065758929, 59.376557437583, 32)\n",
    "( 1.7793983848363, 72.071775670801, 36)\n",
    "( 1.7004576585974, 66.267508112786, 31)\n",
    "( 1.6591086215159, 61.751621901787, 29)\"\"\"\n",
    "\n",
    "# reading data segment part three\n",
    "programCollection = \"\"\"(( 1.5963600450124, 75.717194178189, 23), W )\n",
    "(( 1.6990610819676, 83.477307503684, 25), M )\n",
    "(( 1.5052092436, 74.642420817737, 21), W )\n",
    "(( 1.5738635789008, 78.562465284603, 30), M )\n",
    "(( 1.796178772769, 74.566117057707, 29), M )\n",
    "(( 1.6274618774347, 82.250591567161, 21), W )\n",
    "(( 1.6396843250708, 71.37567170848, 20), W )\n",
    "(( 1.538505823668, 77.418902097029, 32), W )\n",
    "(( 1.6488692005889, 76.333044488477, 26), W )\n",
    "(( 1.7233804613095, 85.812112126306, 27), M )\n",
    "(( 1.7389100516771, 76.424421782215, 24), W )\n",
    "(( 1.5775696242624, 77.201404139171, 29), W )\n",
    "(( 1.7359417237856, 77.004988515324, 20), M )\n",
    "(( 1.5510482441354, 72.950756316157, 24), W )\n",
    "(( 1.5765653263667, 74.750113664457, 34), W )\n",
    "(( 1.4916026885377, 65.880438515643, 28), W )\n",
    "(( 1.6755053770068, 78.901754249459, 22), M )\n",
    "(( 1.4805881225567, 69.652364469244, 30), W )\n",
    "(( 1.6343943760912, 73.998278712613, 30), W )\n",
    "(( 1.6338449829543, 79.216500811112, 27), W )\n",
    "(( 1.5014451222259, 66.917339299419, 27), W )\n",
    "(( 1.8575887178701, 79.942454850988, 28), M )\n",
    "(( 1.6805940669394, 78.213519314007, 27), W )\n",
    "(( 1.6888905106948, 83.031099742808, 20), M )\n",
    "(( 1.7055120272359, 84.233282531303, 18), M )\n",
    "(( 1.5681965896812, 74.753880204215, 22), W )\n",
    "(( 1.6857758389206, 84.014217544019, 25), W )\n",
    "(( 1.7767370337678, 75.709336556562, 27), M )\n",
    "(( 1.6760125952287, 74.034126149139, 28), M )\n",
    "(( 1.5999112612548, 72.040030344184, 27), M )\n",
    "(( 1.6770845322305, 76.149431872551, 25), M )\n",
    "(( 1.7596128136991, 87.366395298795, 29), M )\n",
    "(( 1.5344541456027, 73.832214971449, 22), W )\n",
    "(( 1.5992629534387, 82.4806916967, 34), W )\n",
    "(( 1.6714162787917, 67.986534194515, 29), W )\n",
    "(( 1.7070831676329, 78.269583353177, 25), M )\n",
    "(( 1.5691295338456, 81.09431696972, 27), M )\n",
    "(( 1.7767893419281, 76.910413184648, 30), M )\n",
    "(( 1.5448153215763, 76.888087599642, 32), W )\n",
    "(( 1.5452842691008, 69.761889289463, 30), W )\n",
    "(( 1.6469991919639, 82.289126983444, 18), W )\n",
    "(( 1.6353732734723, 77.829257585654, 19), W )\n",
    "(( 1.7175342426502, 85.002276406574, 26), M )\n",
    "(( 1.6163551692382, 77.247935733799, 21), M )\n",
    "(( 1.6876845881843, 85.616829192322, 27), M )\n",
    "(( 1.5472705508274, 64.474350365634, 23), W )\n",
    "(( 1.558229415357, 80.382011318379, 21), W )\n",
    "(( 1.6242189230632, 69.567339939973, 28), W )\n",
    "(( 1.8215645865237, 78.163631826626, 22), W )\n",
    "(( 1.6984142478298, 69.884030497097, 26), M )\n",
    "(( 1.6468551415123, 82.666468220128, 29), M )\n",
    "(( 1.5727791290292, 75.545348033094, 24), M )\n",
    "(( 1.8086593470477, 78.093913654921, 27), M )\n",
    "(( 1.613966988578, 76.083586505149, 23), W )\n",
    "(( 1.6603990297076, 70.539053122611, 24), M )\n",
    "(( 1.6737443242383, 66.042005829182, 28), W )\n",
    "(( 1.6824912337281, 81.061984274536, 29), M )\n",
    "(( 1.5301691510101, 77.26547501308, 22), M )\n",
    "(( 1.7392340943261, 92.752488433153, 24), M )\n",
    "(( 1.6427105169884, 83.322790265985, 30), M )\n",
    "(( 1.5889040551166, 74.848224733663, 25), W )\n",
    "(( 1.5051718284868, 80.078271153645, 31), W )\n",
    "(( 1.729420786579, 81.936423109142, 26), M )\n",
    "(( 1.7352568354092, 85.497712687992, 19), M )\n",
    "(( 1.5056950011245, 73.726557750383, 24), W )\n",
    "(( 1.772404089054, 75.534265951718, 30), M )\n",
    "(( 1.5212346939173, 74.355845722315, 29), W )\n",
    "(( 1.8184515409355, 85.705767969326, 25), M )\n",
    "(( 1.7307897479464, 84.277029918205, 28), W )\n",
    "(( 1.6372690389158, 72.289040612489, 27), M )\n",
    "(( 1.6856953072545, 70.406532419182, 28), W )\n",
    "(( 1.832494802635, 81.627925524191, 27), M )\n",
    "(( 1.5061197864796, 85.886760677468, 31), W )\n",
    "(( 1.5970906671458, 71.755566818152, 27), W )\n",
    "(( 1.6780459059283, 78.900587239209, 25), W )\n",
    "(( 1.6356901170146, 84.066566323977, 21), W )\n",
    "(( 1.6085494116591, 70.950456539016, 30), M )\n",
    "(( 1.5873479102442, 77.558144903338, 25), M )\n",
    "(( 1.7542078120838, 75.3117550236, 26), M )\n",
    "(( 1.642417315747, 67.97377818999, 31), W )\n",
    "(( 1.5744266340913, 81.767568318602, 23), M )\n",
    "(( 1.8470601407979, 68.606183538532, 30), W )\n",
    "(( 1.7119387468283, 80.560922353487, 27), W )\n",
    "(( 1.6169930563306, 75.538611935125, 27), M )\n",
    "(( 1.6355653058986, 78.49626023408, 24), M )\n",
    "(( 1.6035395957618, 79.226052358485, 33), M )\n",
    "(( 1.662787957279, 76.865925681154, 25), M )\n",
    "(( 1.5889291137091, 76.548543553914, 28), W )\n",
    "(( 1.9058127964477, 82.56539915922, 25), M )\n",
    "(( 1.694633493614, 62.870480634419, 21), W )\n",
    "(( 1.7635692396034, 82.479783004684, 27), M )\n",
    "(( 1.6645292231449, 75.838104636904, 29), W )\n",
    "(( 1.7201968406129, 81.134689293557, 24), W )\n",
    "(( 1.5775563651749, 65.920103519266, 24), W )\n",
    "(( 1.6521294216004, 83.312640709417, 28), M )\n",
    "(( 1.5597501915973, 76.475667826389, 30), W )\n",
    "(( 1.7847561120027, 83.363676219109, 29), M )\n",
    "(( 1.6765690500715, 73.98959022721, 23), M )\n",
    "(( 1.6749260607992, 73.687015573315, 27), W )\n",
    "(( 1.58582362825, 71.713707691505, 28), M )\n",
    "(( 1.5893375739649, 74.248033504548, 27), W )\n",
    "(( 1.6084440045081, 71.126430164213, 27), W )\n",
    "(( 1.6048804804343, 82.049319162211, 26), W )\n",
    "(( 1.5774196609804, 70.878214496062, 24), W )\n",
    "(( 1.6799586185525, 75.649534976838, 29), W )\n",
    "(( 1.7315642636281, 92.12183674186, 29), M )\n",
    "(( 1.5563282000349, 69.312673560451, 32), W )\n",
    "(( 1.7784349641893, 83.464562543, 26), M )\n",
    "(( 1.7270244609765, 76.599791001341, 22), W )\n",
    "(( 1.6372540837311, 74.746741127229, 30), W )\n",
    "(( 1.582550559056, 73.440027907722, 23), W )\n",
    "(( 1.722864383186, 79.37821152354, 20), W )\n",
    "(( 1.5247544081009, 70.601290492141, 27), W )\n",
    "(( 1.580858666774, 70.146982323579, 24), W )\n",
    "(( 1.703343390074, 90.153276095421, 22), W )\n",
    "(( 1.5339948635367, 59.675627532338, 25), W )\n",
    "(( 1.8095306490733, 86.001187990639, 20), M )\n",
    "(( 1.7454786971676, 85.212429336602, 22), M )\n",
    "(( 1.6343303342105, 85.46378358014, 32), M )\n",
    "(( 1.5983479173071, 79.323905480504, 27), W )\"\"\""
   ]
  },
  {
   "cell_type": "code",
   "execution_count": 31,
   "metadata": {
    "id": "TLfCfAXLTLce"
   },
   "outputs": [],
   "source": [
    "# clearing dataset\n",
    "programCollection = pd.DataFrame([ list([float(Ins_Val.replace(\" \",\"\").replace(\"(\", \"\").replace(\")\", \"\").split(\",\")[0]), float(Ins_Val.replace(\" \",\"\").replace(\"(\", \"\").replace(\")\", \"\").split(\",\")[1]), int(Ins_Val.replace(\" \",\"\").replace(\"(\", \"\").replace(\")\", \"\").split(\",\")[2]), Ins_Val.replace(\" \",\"\").replace(\"(\", \"\").replace(\")\", \"\").split(\",\")[3]]) for Ins_Val in programCollection.split(\"\\n\") ], columns = ['Height','Weight','Age','Gender'])\n",
    "trainCollection = pd.DataFrame([ list([float(Ins_Val.replace(\" \",\"\").replace(\"(\", \"\").replace(\")\", \"\").split(\",\")[0]), float(Ins_Val.replace(\" \",\"\").replace(\"(\", \"\").replace(\")\", \"\").split(\",\")[1]), int(Ins_Val.replace(\" \",\"\").replace(\"(\", \"\").replace(\")\", \"\").split(\",\")[2]), Ins_Val.replace(\" \",\"\").replace(\"(\", \"\").replace(\")\", \"\").split(\",\")[3]]) for Ins_Val in trainCollection.split(\"\\n\") ], columns = ['Height','Weight','Age','Gender'])\n",
    "testCollection = pd.DataFrame([ list([float(Ins_Val.replace(\" \",\"\").replace(\"(\", \"\").replace(\")\", \"\").split(\",\")[0]), float(Ins_Val.replace(\" \",\"\").replace(\"(\", \"\").replace(\")\", \"\").split(\",\")[1]), int(Ins_Val.replace(\" \",\"\").replace(\"(\", \"\").replace(\")\", \"\").split(\",\")[2])]) for Ins_Val in testCollection.split(\"\\n\") ], columns = ['Height','Weight','Age'])"
   ]
  },
  {
   "cell_type": "code",
   "execution_count": 32,
   "metadata": {
    "id": "WjxEStAeTJ1_"
   },
   "outputs": [],
   "source": [
    "# KNN Class\n",
    "class knnModel():\n",
    "    def distanceCalculations(self, Value_One, Value_Two, Distance_Status, p =2):\n",
    "        if Distance_Status == 'Minkowski_Distance': return math.sqrt(sum([ abs(Temp_Value_One - Temp_Value_Two)**p for Temp_Value_One, Temp_Value_Two in zip(Value_One, Value_Two) ]))\n",
    "        elif Distance_Status == 'Manhattan_Distance': return math.sqrt(sum([ abs( Point_One - Point_Two ) for Point_One, Point_Two in zip(Value_One, Value_Two) ]))\n",
    "        else: return math.sqrt(sum([ (Value_One[i] - Value_Two[i]) ** 2 for i in range(len(Value_One) - 1)]))\n",
    "    def neighborsFinding(self,X_Train, Y_Train, Test_Temp_Row, Count_Neighbors):\n",
    "        return sorted([ [x, self.distanceCalculations(x, Test_Temp_Row, self.Distance_Status), y] for x, y in zip(X_Train.values, Y_Train.values) ], key=lambda dist: dist[1])[:Count_Neighbors]\n",
    "    def getPredictions(self,X_Train, Y_Train, Test_Temp_Row, Count_Neighbors):\n",
    "        Temp_Calculations = [neighbor[-1] for neighbor in self.neighborsFinding(X_Train, Y_Train, Test_Temp_Row, Count_Neighbors)]\n",
    "        return max(set(Temp_Calculations), key=Temp_Calculations.count)\n",
    "    def fitPredict(self,X_Train, Y_Train, Features_Test, Count_Neighbors, Distance_Status):\n",
    "        self.Distance_Status = Distance_Status\n",
    "        return [ self.getPredictions(X_Train, Y_Train, x, Count_Neighbors) for x in Features_Test.values ]"
   ]
  },
  {
   "cell_type": "code",
   "execution_count": 33,
   "metadata": {
    "id": "scgboVizTHj3"
   },
   "outputs": [],
   "source": [
    "# function to run class\n",
    "def runMainClass(X_Train, Y_Train, X_Test, Y_Test):\n",
    "    for i in range(1,12,2):\n",
    "        proposedAcc = metrics.accuracy_score( Y_Test, knnModel().fitPredict(X_Train, Y_Train, X_Test, i, 'Euclidean_Distance'))\n",
    "        standardAcc = metrics.accuracy_score( Y_Test, KNeighborsClassifier(n_neighbors=i, metric='euclidean', p=2 ).fit(X_Train, Y_Train).predict(X_Test))\n",
    "        print(\"Neighbor ->\",i,\"\\tProposed Accuracy ->\",round(proposedAcc*100,2),\"\\tStandard Accuracy ->\", round(standardAcc*100,2))"
   ]
  },
  {
   "cell_type": "code",
   "execution_count": 34,
   "metadata": {
    "id": "h1gUq-zcTGf_"
   },
   "outputs": [],
   "source": [
    "# function to make leave one out\n",
    "def leaveOneOut(X_Ins, Y_Ins, N_Count):\n",
    "    listPredictions = []\n",
    "    for x in range(len(X_Ins)):\n",
    "        trainList = [ list(y) for y in list(X_Ins.values)]\n",
    "        trainLabel = list(Y_Ins.values)\n",
    "        testFeatures = trainList[x]\n",
    "        testLabel = trainLabel[x]\n",
    "        del trainList[x]\n",
    "        del trainLabel[x]\n",
    "        trainFeaDT = pd.DataFrame(trainList)\n",
    "        trainLabDT = pd.Series(trainLabel)\n",
    "        testFeaDT = pd.DataFrame([testFeatures])\n",
    "        proModel = knnModel()\n",
    "        proModelPred = proModel.fitPredict(trainFeaDT, trainLabDT, testFeaDT, N_Count, 'Euclidean_Distance')\n",
    "        listPredictions.append([testLabel, proModelPred[0]])\n",
    "    Actual_Para =  [ x[0] for x in listPredictions]\n",
    "    Predicted_Para =  [ x[1] for x in listPredictions]  \n",
    "    return round(metrics.accuracy_score(Actual_Para, Predicted_Para)*100,2)"
   ]
  },
  {
   "cell_type": "code",
   "execution_count": 35,
   "metadata": {
    "id": "YQZdfh-9TFP-"
   },
   "outputs": [],
   "source": [
    "# class for NB\n",
    "class naiveBayesClassifer():\n",
    "    def calPosteriorProba(self, x):\n",
    "        listPostPrior = []\n",
    "        for i in range(self.countAllClasses):\n",
    "            instanceProbValue = np.log(self.priorProbablity[i]) \n",
    "            insCalOne = np.exp((-1/2)*((x-(self.meanValue[i]))**2) / (2 * (self.tempVar[i])))\n",
    "            insCalTwo = np.sqrt(2 * np.pi * (self.tempVar[i]))\n",
    "            listPostPrior.append(instanceProbValue + np.sum(np.log(insCalOne / insCalTwo)))\n",
    "        return self.allClasses[np.argmax(listPostPrior)]\n",
    "    def fit(self, tempFeatures, tempLabels):\n",
    "        self.allClasses = np.unique(tempLabels)\n",
    "        self.countAllClasses = len(self.allClasses)\n",
    "        self.meanValue = tempFeatures.groupby(tempLabels).apply(np.mean).to_numpy()\n",
    "        self.tempVar = tempFeatures.groupby(tempLabels).apply(np.var).to_numpy()\n",
    "        self.priorProbablity = (tempFeatures.groupby(tempLabels).apply(lambda x: len(x)) / tempFeatures.shape[0]).to_numpy()\n",
    "    def predict(self, tempFeatures):\n",
    "        return [self.calPosteriorProba(f) for f in tempFeatures.to_numpy()]"
   ]
  },
  {
   "cell_type": "code",
   "execution_count": 36,
   "metadata": {
    "id": "yIcPgMTfTEEd"
   },
   "outputs": [],
   "source": [
    "# function to run class\n",
    "def runMainClassNB(X_Train, Y_Train, X_Test, Y_Test):\n",
    "    proModel = naiveBayesClassifer()\n",
    "    proModel.fit(X_Train, Y_Train)\n",
    "    proModelPrediction = proModel.predict(X_Test)\n",
    "    proposedAcc = metrics.accuracy_score( Y_Test, proModelPrediction)\n",
    "    standardAcc = metrics.accuracy_score( Y_Test, GaussianNB().fit(X_Train, Y_Train).predict(X_Test))\n",
    "    print(\"Proposed Accuracy ->\",round(proposedAcc*100,2),\"\\tStandard Accuracy ->\", round(standardAcc*100,2))"
   ]
  },
  {
   "cell_type": "code",
   "execution_count": 37,
   "metadata": {
    "id": "g9UE2z6uTDG-"
   },
   "outputs": [],
   "source": [
    "# function to implemnet leave one out in NB\n",
    "def leaveOneOutForNB(X_Ins, Y_Ins):\n",
    "    predictionsList = []\n",
    "    for x in range(len(X_Ins)):\n",
    "        List_Features = [ list(y) for y in list(X_Ins.values)]\n",
    "        List_Label = list(Y_Ins.values)\n",
    "        Test_Feature = List_Features[x]\n",
    "        Test_Label = List_Label[x]\n",
    "        del List_Features[x]\n",
    "        del List_Label[x]\n",
    "        Data_Frame_Train_Features = pd.DataFrame(List_Features.copy())\n",
    "        Data_Frame_Train_Label = pd.Series(List_Label.copy())\n",
    "        Data_Frame_Test_Feature = pd.DataFrame([Test_Feature])\n",
    "        Model_Temp = naiveBayesClassifer()\n",
    "        Model_Temp.fit(Data_Frame_Train_Features, Data_Frame_Train_Label)\n",
    "        Predicted_Labels = Model_Temp.predict(Data_Frame_Test_Feature)\n",
    "        predictionsList.append([Test_Label, Predicted_Labels[0]])\n",
    "    Actual_Para =  [ x[0] for x in predictionsList]\n",
    "    Predicted_Para =  [ x[1] for x in predictionsList]\n",
    "    return round(metrics.accuracy_score(Actual_Para, Predicted_Para)*100, 2)"
   ]
  },
  {
   "cell_type": "code",
   "execution_count": 38,
   "metadata": {
    "colab": {
     "base_uri": "https://localhost:8080/"
    },
    "id": "zVvnGKCHTAnu",
    "outputId": "443232ee-9c7c-4aac-bf6f-9f58ef1f8104"
   },
   "outputs": [
    {
     "name": "stdout",
     "output_type": "stream",
     "text": [
      "KNN -> ( ProgramData ) ( 'Euclidean_Distance', 'Minkowski_Distance', 'Manhattan_Distance' )\n",
      "Neighbors -> 1\n",
      "Euclidean_Distance - Prediction -> ['W', 'M', 'W', 'W']\n",
      "Minkowski_Distance - Prediction -> ['W', 'W', 'W', 'W']\n",
      "Manhattan_Distance - Prediction -> ['W', 'W', 'W', 'W']\n",
      "Neighbors -> 3\n",
      "Euclidean_Distance - Prediction -> ['W', 'M', 'W', 'W']\n",
      "Minkowski_Distance - Prediction -> ['W', 'W', 'W', 'W']\n",
      "Manhattan_Distance - Prediction -> ['W', 'W', 'W', 'W']\n",
      "Neighbors -> 5\n",
      "Euclidean_Distance - Prediction -> ['W', 'M', 'W', 'W']\n",
      "Minkowski_Distance - Prediction -> ['W', 'W', 'W', 'W']\n",
      "Manhattan_Distance - Prediction -> ['W', 'W', 'W', 'W']\n",
      "Neighbors -> 7\n",
      "Euclidean_Distance - Prediction -> ['W', 'W', 'W', 'W']\n",
      "Minkowski_Distance - Prediction -> ['W', 'W', 'W', 'W']\n",
      "Manhattan_Distance - Prediction -> ['W', 'W', 'W', 'W']\n",
      "Neighbors -> 9\n",
      "Euclidean_Distance - Prediction -> ['W', 'W', 'W', 'W']\n",
      "Minkowski_Distance - Prediction -> ['W', 'W', 'W', 'W']\n",
      "Manhattan_Distance - Prediction -> ['W', 'W', 'W', 'W']\n",
      "Neighbors -> 11\n",
      "Euclidean_Distance - Prediction -> ['W', 'W', 'W', 'W']\n",
      "Minkowski_Distance - Prediction -> ['W', 'W', 'W', 'W']\n",
      "Manhattan_Distance - Prediction -> ['W', 'W', 'W', 'W']\n"
     ]
    }
   ],
   "source": [
    "# finding predictions\n",
    "print(\"KNN -> ( ProgramData ) ( 'Euclidean_Distance', 'Minkowski_Distance', 'Manhattan_Distance' )\")\n",
    "listOfDistances = [ 'Euclidean_Distance', 'Minkowski_Distance', 'Manhattan_Distance']\n",
    "for i in range(1,12,2):\n",
    "    print(\"Neighbors ->\", i)\n",
    "    for x in range(len(listOfDistances)):\n",
    "        print(listOfDistances[x],end=\"\")\n",
    "        tempModel = knnModel()\n",
    "        tempModelPred = tempModel.fitPredict(programCollection[['Height','Weight','Age']], programCollection['Gender'], testCollection, i, listOfDistances[x])\n",
    "        print(\" - Prediction ->\",tempModelPred)"
   ]
  },
  {
   "cell_type": "code",
   "execution_count": 39,
   "metadata": {
    "colab": {
     "base_uri": "https://localhost:8080/"
    },
    "id": "QxAOcxnMS_cu",
    "outputId": "8877a55b-7975-4b63-fd3b-2139fd5cf499"
   },
   "outputs": [
    {
     "name": "stdout",
     "output_type": "stream",
     "text": [
      "KNN -> ( H,W,A | G ) ( ProgramData | TrainData ) ( 'Euclidean_Distance', 'Minkowski_Distance', 'Manhattan_Distance' )\n",
      "Neighbors -> 1\n",
      "Euclidean_Distance - Accuracy -> 71.42857142857143\n",
      "Minkowski_Distance - Accuracy -> 64.28571428571429\n",
      "Manhattan_Distance - Accuracy -> 71.42857142857143\n",
      "Neighbors -> 3\n",
      "Euclidean_Distance - Accuracy -> 64.28571428571429\n",
      "Minkowski_Distance - Accuracy -> 64.28571428571429\n",
      "Manhattan_Distance - Accuracy -> 64.28571428571429\n",
      "Neighbors -> 5\n",
      "Euclidean_Distance - Accuracy -> 71.42857142857143\n",
      "Minkowski_Distance - Accuracy -> 57.14285714285714\n",
      "Manhattan_Distance - Accuracy -> 57.14285714285714\n",
      "Neighbors -> 7\n",
      "Euclidean_Distance - Accuracy -> 71.42857142857143\n",
      "Minkowski_Distance - Accuracy -> 57.14285714285714\n",
      "Manhattan_Distance - Accuracy -> 57.14285714285714\n",
      "Neighbors -> 9\n",
      "Euclidean_Distance - Accuracy -> 71.42857142857143\n",
      "Minkowski_Distance - Accuracy -> 57.14285714285714\n",
      "Manhattan_Distance - Accuracy -> 57.14285714285714\n",
      "Neighbors -> 11\n",
      "Euclidean_Distance - Accuracy -> 71.42857142857143\n",
      "Minkowski_Distance - Accuracy -> 57.14285714285714\n",
      "Manhattan_Distance - Accuracy -> 57.14285714285714\n"
     ]
    }
   ],
   "source": [
    "# running model\n",
    "print(\"KNN -> ( H,W,A | G ) ( ProgramData | TrainData ) ( 'Euclidean_Distance', 'Minkowski_Distance', 'Manhattan_Distance' )\")\n",
    "listOfDistances = [ 'Euclidean_Distance', 'Minkowski_Distance', 'Manhattan_Distance']\n",
    "for i in range(1,12,2):\n",
    "    print(\"Neighbors ->\", i)\n",
    "    for x in range(len(listOfDistances)):\n",
    "        print(listOfDistances[x],end=\"\")\n",
    "        tempModel = knnModel()\n",
    "        tempModelPred = tempModel.fitPredict(programCollection[['Height','Weight','Age']], programCollection['Gender'], trainCollection[['Height','Weight','Age']], i, listOfDistances[x])\n",
    "        print(\" - Accuracy ->\",metrics.accuracy_score(trainCollection['Gender'], tempModelPred)*100)"
   ]
  },
  {
   "cell_type": "code",
   "execution_count": 40,
   "metadata": {
    "colab": {
     "base_uri": "https://localhost:8080/"
    },
    "id": "69ZUIDJzS12u",
    "outputId": "b67c6156-cc19-4e64-a7ff-1078beb8237e"
   },
   "outputs": [
    {
     "name": "stdout",
     "output_type": "stream",
     "text": [
      "1 KNN -> ( H,W,A | G ) ( TrainData | ProgramData ) \n",
      "Neighbor -> 1 \tProposed Accuracy -> 51.67 \tStandard Accuracy -> 58.33\n",
      "Neighbor -> 3 \tProposed Accuracy -> 61.67 \tStandard Accuracy -> 60.0\n",
      "Neighbor -> 5 \tProposed Accuracy -> 57.5 \tStandard Accuracy -> 60.0\n",
      "Neighbor -> 7 \tProposed Accuracy -> 58.33 \tStandard Accuracy -> 59.17\n",
      "Neighbor -> 9 \tProposed Accuracy -> 57.5 \tStandard Accuracy -> 57.5\n",
      "Neighbor -> 11 \tProposed Accuracy -> 57.5 \tStandard Accuracy -> 55.83\n"
     ]
    }
   ],
   "source": [
    "# Segment 1\n",
    "print(\"1 KNN -> ( H,W,A | G ) ( TrainData | ProgramData ) \")\n",
    "runMainClass(trainCollection[['Height','Weight','Age']], trainCollection['Gender'], programCollection[['Height','Weight','Age']], programCollection['Gender'])"
   ]
  },
  {
   "cell_type": "code",
   "execution_count": 41,
   "metadata": {
    "colab": {
     "base_uri": "https://localhost:8080/"
    },
    "id": "LFGIDgJ_S84O",
    "outputId": "d905c4e2-ae9d-4293-882b-fb5100e33138"
   },
   "outputs": [
    {
     "name": "stdout",
     "output_type": "stream",
     "text": [
      "2 KNN -> ( H,W,A | G ) ( ProgramData | TrainData ) \n",
      "Neighbor -> 1 \tProposed Accuracy -> 71.43 \tStandard Accuracy -> 64.29\n",
      "Neighbor -> 3 \tProposed Accuracy -> 64.29 \tStandard Accuracy -> 64.29\n",
      "Neighbor -> 5 \tProposed Accuracy -> 71.43 \tStandard Accuracy -> 57.14\n",
      "Neighbor -> 7 \tProposed Accuracy -> 71.43 \tStandard Accuracy -> 57.14\n",
      "Neighbor -> 9 \tProposed Accuracy -> 71.43 \tStandard Accuracy -> 57.14\n",
      "Neighbor -> 11 \tProposed Accuracy -> 71.43 \tStandard Accuracy -> 57.14\n"
     ]
    }
   ],
   "source": [
    "# Segment 2\n",
    "print(\"2 KNN -> ( H,W,A | G ) ( ProgramData | TrainData ) \")\n",
    "runMainClass(programCollection[['Height','Weight','Age']], programCollection['Gender'], trainCollection[['Height','Weight','Age']], trainCollection['Gender'] )"
   ]
  },
  {
   "cell_type": "code",
   "execution_count": 42,
   "metadata": {
    "colab": {
     "base_uri": "https://localhost:8080/"
    },
    "id": "bjAAWJ80S7qG",
    "outputId": "8c4197c0-8b8a-4b86-8fc0-89ecad1e2113"
   },
   "outputs": [
    {
     "name": "stdout",
     "output_type": "stream",
     "text": [
      "3 KNN -> ( H,W | G ) ( TrainData | ProgramData ) \n",
      "Neighbor -> 1 \tProposed Accuracy -> 69.17 \tStandard Accuracy -> 51.67\n",
      "Neighbor -> 3 \tProposed Accuracy -> 69.17 \tStandard Accuracy -> 61.67\n",
      "Neighbor -> 5 \tProposed Accuracy -> 65.83 \tStandard Accuracy -> 57.5\n",
      "Neighbor -> 7 \tProposed Accuracy -> 66.67 \tStandard Accuracy -> 58.33\n",
      "Neighbor -> 9 \tProposed Accuracy -> 65.83 \tStandard Accuracy -> 57.5\n",
      "Neighbor -> 11 \tProposed Accuracy -> 65.83 \tStandard Accuracy -> 57.5\n"
     ]
    }
   ],
   "source": [
    "# Segment 3\n",
    "print(\"3 KNN -> ( H,W | G ) ( TrainData | ProgramData ) \")\n",
    "runMainClass(trainCollection[['Height','Weight']], trainCollection['Gender'], programCollection[['Height','Weight']], programCollection['Gender'])"
   ]
  },
  {
   "cell_type": "code",
   "execution_count": 43,
   "metadata": {
    "colab": {
     "base_uri": "https://localhost:8080/"
    },
    "id": "DjEm4ijqS6sm",
    "outputId": "75ca5262-2da7-44dd-d498-20dc258879c0"
   },
   "outputs": [
    {
     "name": "stdout",
     "output_type": "stream",
     "text": [
      "4 KNN -> ( H,W | G ) ( ProgramData | TrainData ) \n",
      "Neighbor -> 1 \tProposed Accuracy -> 71.43 \tStandard Accuracy -> 71.43\n",
      "Neighbor -> 3 \tProposed Accuracy -> 92.86 \tStandard Accuracy -> 64.29\n",
      "Neighbor -> 5 \tProposed Accuracy -> 78.57 \tStandard Accuracy -> 71.43\n",
      "Neighbor -> 7 \tProposed Accuracy -> 78.57 \tStandard Accuracy -> 71.43\n",
      "Neighbor -> 9 \tProposed Accuracy -> 57.14 \tStandard Accuracy -> 71.43\n",
      "Neighbor -> 11 \tProposed Accuracy -> 50.0 \tStandard Accuracy -> 71.43\n"
     ]
    }
   ],
   "source": [
    "# Segment 4\n",
    "print(\"4 KNN -> ( H,W | G ) ( ProgramData | TrainData ) \")\n",
    "runMainClass(programCollection[['Height','Weight']], programCollection['Gender'], trainCollection[['Height','Weight']], trainCollection['Gender'] )"
   ]
  },
  {
   "cell_type": "code",
   "execution_count": 44,
   "metadata": {
    "colab": {
     "base_uri": "https://localhost:8080/"
    },
    "id": "NwiabKXeS5tW",
    "outputId": "ce814563-2d2f-4f5a-8d8e-c22f93fe3c2b"
   },
   "outputs": [
    {
     "name": "stdout",
     "output_type": "stream",
     "text": [
      "5 KNN -> ( H,W,A | G ) ( TrainData ) Leave One Out Method\n",
      "Neighbors -> 1 \tAccuracy -> 85.71\n",
      "Neighbors -> 3 \tAccuracy -> 71.43\n",
      "Neighbors -> 5 \tAccuracy -> 78.57\n",
      "Neighbors -> 7 \tAccuracy -> 78.57\n",
      "Neighbors -> 9 \tAccuracy -> 78.57\n",
      "Neighbors -> 11 \tAccuracy -> 78.57\n"
     ]
    }
   ],
   "source": [
    "# Segment 5\n",
    "print(\"5 KNN -> ( H,W,A | G ) ( TrainData ) Leave One Out Method\")\n",
    "for x in range(1,12,2):\n",
    "    print(\"Neighbors ->\", x, \"\\tAccuracy ->\",leaveOneOut(trainCollection[['Height','Weight','Age']], trainCollection['Gender'], x))"
   ]
  },
  {
   "cell_type": "code",
   "execution_count": 45,
   "metadata": {
    "colab": {
     "base_uri": "https://localhost:8080/"
    },
    "id": "utQiz5lwS4pX",
    "outputId": "595ff764-fe1f-4f77-b97a-0cd2628cfca6"
   },
   "outputs": [
    {
     "name": "stdout",
     "output_type": "stream",
     "text": [
      "6 KNN -> ( H,W,A | G ) ( ProgramData ) Leave One Out Method\n",
      "Neighbors -> 1 \tAccuracy -> 62.5\n",
      "Neighbors -> 3 \tAccuracy -> 70.83\n",
      "Neighbors -> 5 \tAccuracy -> 65.0\n",
      "Neighbors -> 7 \tAccuracy -> 63.33\n",
      "Neighbors -> 9 \tAccuracy -> 60.0\n",
      "Neighbors -> 11 \tAccuracy -> 57.5\n"
     ]
    }
   ],
   "source": [
    "# Segment 6\n",
    "print(\"6 KNN -> ( H,W,A | G ) ( ProgramData ) Leave One Out Method\")\n",
    "for x in range(1,12,2):\n",
    "    print(\"Neighbors ->\", x, \"\\tAccuracy ->\",leaveOneOut(programCollection[['Height','Weight','Age']], programCollection['Gender'], x))"
   ]
  },
  {
   "cell_type": "code",
   "execution_count": 46,
   "metadata": {
    "colab": {
     "base_uri": "https://localhost:8080/"
    },
    "id": "zhNOaDyeS3xn",
    "outputId": "a6a18a93-ba51-4603-ca06-3cf0f69d925a"
   },
   "outputs": [
    {
     "name": "stdout",
     "output_type": "stream",
     "text": [
      "7 KNN -> ( H,W | G ) ( TrainData ) Leave One Out Method\n",
      "Neighbors -> 1 \tAccuracy -> 57.14\n",
      "Neighbors -> 3 \tAccuracy -> 64.29\n",
      "Neighbors -> 5 \tAccuracy -> 78.57\n",
      "Neighbors -> 7 \tAccuracy -> 78.57\n",
      "Neighbors -> 9 \tAccuracy -> 78.57\n",
      "Neighbors -> 11 \tAccuracy -> 50.0\n"
     ]
    }
   ],
   "source": [
    "# Segment 7\n",
    "print(\"7 KNN -> ( H,W | G ) ( TrainData ) Leave One Out Method\")\n",
    "for x in range(1,12,2):\n",
    "    print(\"Neighbors ->\", x, \"\\tAccuracy ->\",leaveOneOut(trainCollection[['Height','Weight']], trainCollection['Gender'], x))"
   ]
  },
  {
   "cell_type": "code",
   "execution_count": 47,
   "metadata": {
    "colab": {
     "base_uri": "https://localhost:8080/"
    },
    "id": "VUWjYTQJS29_",
    "outputId": "e8e81c9a-2cc8-4980-c3b7-370159d971f0"
   },
   "outputs": [
    {
     "name": "stdout",
     "output_type": "stream",
     "text": [
      "8 KNN -> ( H,W | G ) ( ProgramData ) Leave One Out Method\n",
      "Neighbors -> 1 \tAccuracy -> 60.83\n",
      "Neighbors -> 3 \tAccuracy -> 57.5\n",
      "Neighbors -> 5 \tAccuracy -> 60.83\n",
      "Neighbors -> 7 \tAccuracy -> 60.0\n",
      "Neighbors -> 9 \tAccuracy -> 60.83\n",
      "Neighbors -> 11 \tAccuracy -> 65.83\n"
     ]
    }
   ],
   "source": [
    "# Segment 8\n",
    "print(\"8 KNN -> ( H,W | G ) ( ProgramData ) Leave One Out Method\")\n",
    "for x in range(1,12,2):\n",
    "    print(\"Neighbors ->\", x, \"\\tAccuracy ->\",leaveOneOut(programCollection[['Height','Weight']], programCollection['Gender'], x))"
   ]
  },
  {
   "cell_type": "code",
   "execution_count": 48,
   "metadata": {
    "colab": {
     "base_uri": "https://localhost:8080/"
    },
    "id": "Uj6I78YlSs5F",
    "outputId": "e02d2b81-a00a-484a-bc64-d1d523d0d598"
   },
   "outputs": [
    {
     "name": "stdout",
     "output_type": "stream",
     "text": [
      "Predictions of Test data (When Model trained on Train_Data) -\n",
      "W\n",
      "W\n",
      "W\n",
      "W\n",
      "Predictions of Test data (When Model trained on Program_Data -)\n",
      "W\n",
      "W\n",
      "W\n",
      "W\n"
     ]
    }
   ],
   "source": [
    "# predictions\n",
    "print(\"Predictions of Test data (When Model trained on Train_Data) -\")\n",
    "tempModel = naiveBayesClassifer()\n",
    "tempModel.fit(trainCollection[['Height','Weight','Age']], trainCollection['Gender'])\n",
    "for x in tempModel.predict(testCollection):\n",
    "    print(x)\n",
    "print(\"Predictions of Test data (When Model trained on Program_Data -)\")\n",
    "tempModel = naiveBayesClassifer()\n",
    "tempModel.fit(programCollection[['Height','Weight','Age']], programCollection['Gender'])\n",
    "for x in tempModel.predict(testCollection):\n",
    "    print(x)"
   ]
  },
  {
   "cell_type": "code",
   "execution_count": 49,
   "metadata": {
    "colab": {
     "base_uri": "https://localhost:8080/"
    },
    "id": "Ab0XTDuOSvhn",
    "outputId": "2f93d232-4217-437e-e17d-79a9e3976e05"
   },
   "outputs": [
    {
     "name": "stdout",
     "output_type": "stream",
     "text": [
      "1 NB -> ( H,W,A | G ) ( TrainData | ProgramData ) \n",
      "Proposed Accuracy -> 65.0 \tStandard Accuracy -> 63.33\n"
     ]
    }
   ],
   "source": [
    "# Segment 1\n",
    "print(\"1 NB -> ( H,W,A | G ) ( TrainData | ProgramData ) \")\n",
    "runMainClassNB(trainCollection[['Height','Weight','Age']], trainCollection['Gender'], programCollection[['Height','Weight','Age']], programCollection['Gender'])"
   ]
  },
  {
   "cell_type": "code",
   "execution_count": 50,
   "metadata": {
    "colab": {
     "base_uri": "https://localhost:8080/"
    },
    "id": "B5QfwFvOSyh_",
    "outputId": "38cba8a4-28d4-451f-f33a-d8b56fbceb9c"
   },
   "outputs": [
    {
     "name": "stdout",
     "output_type": "stream",
     "text": [
      "2 NB -> ( H,W,A | G ) ( ProgramData | TrainData ) \n",
      "Proposed Accuracy -> 64.29 \tStandard Accuracy -> 64.29\n"
     ]
    }
   ],
   "source": [
    "# Segment 2\n",
    "print(\"2 NB -> ( H,W,A | G ) ( ProgramData | TrainData ) \")\n",
    "runMainClassNB(programCollection[['Height','Weight','Age']], programCollection['Gender'], trainCollection[['Height','Weight','Age']], trainCollection['Gender'] )"
   ]
  },
  {
   "cell_type": "code",
   "execution_count": 51,
   "metadata": {
    "colab": {
     "base_uri": "https://localhost:8080/"
    },
    "id": "TkSHaXqTSxqd",
    "outputId": "7b9dd82b-000c-4572-d872-46d0fba71989"
   },
   "outputs": [
    {
     "name": "stdout",
     "output_type": "stream",
     "text": [
      "3 NB -> ( H,W | G ) ( TrainData | ProgramData ) \n",
      "Proposed Accuracy -> 65.0 \tStandard Accuracy -> 65.83\n"
     ]
    }
   ],
   "source": [
    "# Segment 3\n",
    "print(\"3 NB -> ( H,W | G ) ( TrainData | ProgramData ) \")\n",
    "runMainClassNB(trainCollection[['Height','Weight']], trainCollection['Gender'], programCollection[['Height','Weight']], programCollection['Gender'])"
   ]
  },
  {
   "cell_type": "code",
   "execution_count": 52,
   "metadata": {
    "colab": {
     "base_uri": "https://localhost:8080/"
    },
    "id": "RYRSDsRLSwxf",
    "outputId": "568bc3b9-b7b2-40d0-a95d-b1a8ba9ef704"
   },
   "outputs": [
    {
     "name": "stdout",
     "output_type": "stream",
     "text": [
      "4 NB -> ( H,W | G ) ( ProgramData | TrainData ) \n",
      "Proposed Accuracy -> 71.43 \tStandard Accuracy -> 85.71\n"
     ]
    }
   ],
   "source": [
    "# Segment 4\n",
    "print(\"4 NB -> ( H,W | G ) ( ProgramData | TrainData ) \")\n",
    "runMainClassNB(programCollection[['Height','Weight']], programCollection['Gender'], trainCollection[['Height','Weight']], trainCollection['Gender'] )"
   ]
  },
  {
   "cell_type": "code",
   "execution_count": 53,
   "metadata": {
    "colab": {
     "base_uri": "https://localhost:8080/"
    },
    "id": "hfh1sbnOSrl1",
    "outputId": "89702431-d34c-4429-906f-83379662fba0"
   },
   "outputs": [
    {
     "name": "stdout",
     "output_type": "stream",
     "text": [
      "5 NB -> ( H,W,A | G ) ( TrainData ) Leave One Out Method\n",
      "Accuracy -> 78.57\n"
     ]
    }
   ],
   "source": [
    "# Segment 5\n",
    "print(\"5 NB -> ( H,W,A | G ) ( TrainData ) Leave One Out Method\")\n",
    "print(\"Accuracy ->\", leaveOneOutForNB(trainCollection[['Height','Weight','Age']], trainCollection['Gender']))"
   ]
  },
  {
   "cell_type": "code",
   "execution_count": 54,
   "metadata": {
    "colab": {
     "base_uri": "https://localhost:8080/"
    },
    "id": "KtAspOh-Sq2G",
    "outputId": "631b1010-9d79-4906-8051-7274fce9608e"
   },
   "outputs": [
    {
     "name": "stdout",
     "output_type": "stream",
     "text": [
      "6 NB -> ( H,W,A | G ) ( ProgramData ) Leave One Out Method\n",
      "Accuracy -> 69.17\n"
     ]
    }
   ],
   "source": [
    "# Segment 6\n",
    "print(\"6 NB -> ( H,W,A | G ) ( ProgramData ) Leave One Out Method\")\n",
    "print(\"Accuracy ->\", leaveOneOutForNB(programCollection[['Height','Weight','Age']], programCollection['Gender']))"
   ]
  },
  {
   "cell_type": "code",
   "execution_count": 55,
   "metadata": {
    "colab": {
     "base_uri": "https://localhost:8080/"
    },
    "id": "CBmE-l79SqAs",
    "outputId": "48bb63aa-4957-49b7-9711-fd2ad625b880"
   },
   "outputs": [
    {
     "name": "stdout",
     "output_type": "stream",
     "text": [
      "7 NB -> ( H,W | G ) ( TrainData ) Leave One Out Method\n",
      "Accuracy -> 78.57\n"
     ]
    }
   ],
   "source": [
    "# Segment 7\n",
    "print(\"7 NB -> ( H,W | G ) ( TrainData ) Leave One Out Method\")\n",
    "print(\"Accuracy ->\", leaveOneOutForNB(trainCollection[['Height','Weight']], trainCollection['Gender']))"
   ]
  },
  {
   "cell_type": "code",
   "execution_count": 56,
   "metadata": {
    "colab": {
     "base_uri": "https://localhost:8080/"
    },
    "id": "jHUBaUr1SpD4",
    "outputId": "43b45a6b-3b49-498c-86e0-e1cab0c1ac6a",
    "scrolled": true
   },
   "outputs": [
    {
     "name": "stdout",
     "output_type": "stream",
     "text": [
      "8 NB -> ( H,W | G ) ( ProgramData ) Leave One Out Method\n",
      "Accuracy -> 70.83\n"
     ]
    }
   ],
   "source": [
    "# Segment 8\n",
    "print(\"8 NB -> ( H,W | G ) ( ProgramData ) Leave One Out Method\")\n",
    "print(\"Accuracy ->\", leaveOneOutForNB(programCollection[['Height','Weight']], programCollection['Gender']))"
   ]
  },
  {
   "cell_type": "code",
   "execution_count": null,
   "metadata": {},
   "outputs": [],
   "source": []
  }
 ],
 "metadata": {
  "colab": {
   "provenance": []
  },
  "kernelspec": {
   "display_name": "Python 3",
   "language": "python",
   "name": "python3"
  },
  "language_info": {
   "codemirror_mode": {
    "name": "ipython",
    "version": 3
   },
   "file_extension": ".py",
   "mimetype": "text/x-python",
   "name": "python",
   "nbconvert_exporter": "python",
   "pygments_lexer": "ipython3",
   "version": "3.8.5"
  }
 },
 "nbformat": 4,
 "nbformat_minor": 1
}
